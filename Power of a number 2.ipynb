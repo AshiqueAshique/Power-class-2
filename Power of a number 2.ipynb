{
 "cells": [
  {
   "cell_type": "markdown",
   "id": "8af52bac",
   "metadata": {},
   "source": [
    "Python a class to implement pow(x,n):"
   ]
  },
  {
   "cell_type": "code",
   "execution_count": 1,
   "id": "ddcbc7d0",
   "metadata": {},
   "outputs": [],
   "source": [
    "class Power:\n",
    "    def __init__(self, x, n):\n",
    "        self.x = x    #x is the given number \n",
    "        self.n = n    # n is the power\n",
    "    def pow(self):    #function to calculate the nth power of the given number\n",
    "        print(\"pow(\",self.x,\",\",self.n,\")= \", self.x**self.n)  \n",
    "        "
   ]
  },
  {
   "cell_type": "code",
   "execution_count": 2,
   "id": "21ce9550",
   "metadata": {},
   "outputs": [],
   "source": [
    "s = Power(10,2)   #object of Power class"
   ]
  },
  {
   "cell_type": "code",
   "execution_count": 3,
   "id": "4af33b2f",
   "metadata": {},
   "outputs": [
    {
     "name": "stdout",
     "output_type": "stream",
     "text": [
      "pow( 10 , 2 )=  100\n"
     ]
    }
   ],
   "source": [
    "s.pow()        #calling pow func to the object"
   ]
  }
 ],
 "metadata": {
  "kernelspec": {
   "display_name": "Python 3",
   "language": "python",
   "name": "python3"
  },
  "language_info": {
   "codemirror_mode": {
    "name": "ipython",
    "version": 3
   },
   "file_extension": ".py",
   "mimetype": "text/x-python",
   "name": "python",
   "nbconvert_exporter": "python",
   "pygments_lexer": "ipython3",
   "version": "3.8.8"
  }
 },
 "nbformat": 4,
 "nbformat_minor": 5
}
